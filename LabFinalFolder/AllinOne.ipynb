{
  "nbformat": 4,
  "nbformat_minor": 0,
  "metadata": {
    "colab": {
      "provenance": []
    },
    "kernelspec": {
      "name": "python3",
      "display_name": "Python 3"
    },
    "language_info": {
      "name": "python"
    }
  },
  "cells": [
    {
      "cell_type": "code",
      "execution_count": null,
      "metadata": {
        "id": "pmgIEk1XalHz"
      },
      "outputs": [],
      "source": [
        "import numpy as np\n",
        "import pandas as pd\n",
        "import matplotlib.pyplot as plt"
      ]
    },
    {
      "cell_type": "code",
      "source": [
        "dataset.isnull().sum()\n",
        "data.shape\n",
        "data.info()"
      ],
      "metadata": {
        "id": "UZuShb5ganSx"
      },
      "execution_count": null,
      "outputs": []
    },
    {
      "cell_type": "code",
      "source": [
        "import seaborn as sns\n",
        "sns.heatmap(dataset.isnull())"
      ],
      "metadata": {
        "id": "yjz-i6vNar_n"
      },
      "execution_count": null,
      "outputs": []
    },
    {
      "cell_type": "code",
      "source": [
        "data[['Age','Purchase Amount','Loyalty Points']]=data[['Age','Purchase Amount','Loyalty Points']].fillna(data[['Age','Purchase Amount','Loyalty Points']].median())\n",
        "data"
      ],
      "metadata": {
        "id": "2f6-8oP7a7LA"
      },
      "execution_count": null,
      "outputs": []
    },
    {
      "cell_type": "code",
      "source": [
        "gen = data['Gender'].mode()[0]\n",
        "prodct = data['Product Category'].mode()[0]\n",
        "data['Gender'] = data['Gender'].fillna(gen)\n",
        "data['Product Category'] = data['Product Category'].fillna(prodct)"
      ],
      "metadata": {
        "id": "HdNI3_ZEa-5f"
      },
      "execution_count": null,
      "outputs": []
    },
    {
      "cell_type": "code",
      "source": [
        "data['Gender'].unique()\n",
        "\n",
        "from sklearn.preprocessing import LabelEncoder\n",
        "\n",
        "le = LabelEncoder()\n",
        "data['Product Category']= le.fit_transform(data['Product Category'])\n",
        "data['Payment Method']= le.fit_transform(data['Payment Method'])\n",
        "data['Gender']= le.fit_transform(data['Gender'])\n",
        "#data['Payment Method'].unique()\n",
        "data\n",
        "\n",
        "\n",
        "oneHot = pd.get_dummies(data = data, columns = ['Feedback','Membership Level'], prefix = \"One_hot\")\n",
        "\n",
        "oneHot"
      ],
      "metadata": {
        "id": "0oNUVob1bDKn"
      },
      "execution_count": null,
      "outputs": []
    },
    {
      "cell_type": "code",
      "source": [
        "#See outliers\n",
        "plt.figure(figsize=(10, 5))\n",
        "sns.scatterplot(x=\"Gender\", y=\"Age\", data=data)\n",
        "plt.xlabel(\"Gender\")\n",
        "plt.ylabel(\"Age\")\n",
        "plt.title(\"Gender vs. Age\")\n",
        "plt.show()"
      ],
      "metadata": {
        "id": "NANAA-E5bafo"
      },
      "execution_count": null,
      "outputs": []
    },
    {
      "cell_type": "code",
      "source": [
        "data.corr()\n",
        "\n",
        "sns.heatmap(data.corr())"
      ],
      "metadata": {
        "id": "4cUhDMKVbhHA"
      },
      "execution_count": null,
      "outputs": []
    },
    {
      "cell_type": "code",
      "source": [
        "y = data[['price']]\n",
        "x = data[['area']]"
      ],
      "metadata": {
        "id": "JROLGOajbrTu"
      },
      "execution_count": null,
      "outputs": []
    },
    {
      "cell_type": "code",
      "source": [
        "from sklearn.model_selection import train_test_split\n",
        "\n",
        "xtrain,xtest,ytrain,ytest = train_test_split(x,y,test_size=0.2)"
      ],
      "metadata": {
        "id": "FizoUx-QbvRX"
      },
      "execution_count": null,
      "outputs": []
    },
    {
      "cell_type": "code",
      "source": [
        "x.size\n",
        "ytrain.shape\n",
        "xtrain.size,xtest.size"
      ],
      "metadata": {
        "id": "xI02HmThbz2P"
      },
      "execution_count": null,
      "outputs": []
    },
    {
      "cell_type": "code",
      "source": [
        "from sklearn.linear_model import LinearRegression\n",
        "\n",
        "lir = LinearRegression()\n",
        "lir.fit(xtrain,ytrain)\n",
        "\n",
        "lir.score(xtest,ytest)"
      ],
      "metadata": {
        "id": "JhsXKeQdb7Ji"
      },
      "execution_count": null,
      "outputs": []
    },
    {
      "cell_type": "code",
      "source": [
        "m = lir.coef_\n",
        "c = lir.intercept_\n",
        "y = m*xtest.iloc[2].values+c\n",
        "\n",
        "ytest.iloc[2].values,y"
      ],
      "metadata": {
        "id": "jm3Cm66YcA9G"
      },
      "execution_count": null,
      "outputs": []
    },
    {
      "cell_type": "code",
      "source": [
        "lir.predict([xtest.iloc[1]])"
      ],
      "metadata": {
        "id": "1hlfjbLfcErm"
      },
      "execution_count": null,
      "outputs": []
    }
  ]
}